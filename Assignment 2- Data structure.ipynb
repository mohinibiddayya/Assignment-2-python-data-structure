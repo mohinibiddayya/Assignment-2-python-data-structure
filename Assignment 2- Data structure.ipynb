{
 "cells": [
  {
   "cell_type": "code",
   "execution_count": null,
   "metadata": {},
   "outputs": [],
   "source": [
    "#1. Discuss string slicing and providde examples"
   ]
  },
  {
   "cell_type": "markdown",
   "metadata": {},
   "source": [
    "# It is a feature used to access a perticural portion of a string.\n",
    "# Basic syntax is string[Starting index: Ending index:Step]"
   ]
  },
  {
   "cell_type": "code",
   "execution_count": 7,
   "metadata": {},
   "outputs": [],
   "source": [
    "S1= \"Python is a programmig language\""
   ]
  },
  {
   "cell_type": "code",
   "execution_count": 20,
   "metadata": {},
   "outputs": [
    {
     "name": "stdout",
     "output_type": "stream",
     "text": [
      "Python is a programmig language\n",
      "12\n",
      "15\n"
     ]
    }
   ],
   "source": [
    "print(S1)\n",
    "print(S1.find(\"p\"))\n",
    "print(S1.find(\"g\"))"
   ]
  },
  {
   "cell_type": "code",
   "execution_count": 18,
   "metadata": {},
   "outputs": [
    {
     "data": {
      "text/plain": [
       "'programmig'"
      ]
     },
     "execution_count": 18,
     "metadata": {},
     "output_type": "execute_result"
    }
   ],
   "source": [
    "(S1[12: 22])"
   ]
  },
  {
   "cell_type": "code",
   "execution_count": null,
   "metadata": {},
   "outputs": [],
   "source": [
    "# 2. Explain the key features of lists on Python"
   ]
  },
  {
   "cell_type": "markdown",
   "metadata": {},
   "source": [
    "# In List position of element is preserved, and it can be accessed by its index.\n",
    "# Elements in the lists are mutable, elements can be added or removed from a list.\n",
    "# Lists can contain elements of different data types like integers, strings, floats, and other lists mixed together.\n",
    "# Elements in the list can be accessed by both forward and backword indexing.\n",
    "# List support slicing, which allows to extract a portion of the list.\n",
    "# lists come with a variety of built-in methods for common operations like append(),extend(),insert(), remove(), pop(), clear(), index() etc.\n",
    "# Lists can be easily iterated over using loops.\n"
   ]
  },
  {
   "cell_type": "code",
   "execution_count": null,
   "metadata": {},
   "outputs": [],
   "source": [
    "# 3. Describe how to access, modify and delete elements in a list both examples"
   ]
  },
  {
   "cell_type": "code",
   "execution_count": 21,
   "metadata": {},
   "outputs": [
    {
     "name": "stdout",
     "output_type": "stream",
     "text": [
      "['apple', 'banana', 'chikku', 'dragon fruit']\n",
      "banana\n",
      "dragon fruit\n",
      "['apple', 'berry', 'chikku', 'dragon fruit']\n",
      "['apple', 'butter fruit', 'berry', 'chikku', 'dragon fruit']\n",
      "['apple', 'butter fruit', 'chikku', 'dragon fruit']\n",
      "butter fruit\n",
      "['apple', 'chikku', 'dragon fruit']\n",
      "['apple', 'chikku']\n"
     ]
    }
   ],
   "source": [
    "# Elements in the list are accessed by using indexing. Example,\n",
    "s1 = ['apple','banana','chikku','dragon fruit']\n",
    "print(s1)\n",
    "print(s1[1])   #Forward indexing\n",
    "print(s1[-1])  #Backword indexing\n",
    "\n",
    "# Modifying the elements using index, \n",
    "s1[1]='berry'\n",
    "print(s1)\n",
    "\n",
    "# Inserting the new elements,\n",
    "s1.insert(1,'butter fruit')\n",
    "print(s1)\n",
    "\n",
    "#Deleting a element,\n",
    "del s1[2]     # Using del statement\n",
    "print(s1)\n",
    "\n",
    "s = s1.pop(1)  # Using pop() method\n",
    "print(s)\n",
    "print(s1)\n",
    "\n",
    "s1.remove('dragon fruit')\n",
    "print(s1)\n"
   ]
  },
  {
   "cell_type": "code",
   "execution_count": null,
   "metadata": {},
   "outputs": [],
   "source": [
    "# 4. Compare and contrast tuples and lists with examples"
   ]
  },
  {
   "cell_type": "markdown",
   "metadata": {},
   "source": [
    "# Tuples and lists are both used to store collections of items.\n",
    "# Similarities:\n",
    "Both tuples and lists support indexing and slicing.\n",
    "Both can be iterated over using loops and other iterable operations.\n",
    "Both can store elements of mixed data types.\n",
    "# Differences:\n",
    "Lists are mutable whereas Tuples are immutable\n",
    "Lists are used for collection of items that might change over time. Tuples are used for fixed collection of items that should not be modified like dictionary key.\n",
    "Lists use square brackets [], Tuples use parentheses()"
   ]
  },
  {
   "cell_type": "code",
   "execution_count": 2,
   "metadata": {},
   "outputs": [
    {
     "name": "stdout",
     "output_type": "stream",
     "text": [
      "[1, 2, 3, 4, 'apple', 'rose', 9, 10]\n",
      "3\n",
      "[1, 2, 'pineapple', 4, 'apple', 'rose', 9, 10]\n"
     ]
    }
   ],
   "source": [
    "list = [1,2,3,4, 'apple','rose',9,10]\n",
    "print(list)\n",
    "#mutable\n",
    "print(list[2])                    #accessible\n",
    "list[2]='pineapple' \n",
    "print(list)                       #modifiable"
   ]
  },
  {
   "cell_type": "code",
   "execution_count": 3,
   "metadata": {},
   "outputs": [
    {
     "ename": "SyntaxError",
     "evalue": "cannot assign to function call here. Maybe you meant '==' instead of '='? (Temp/ipykernel_19832/162972692.py, line 2)",
     "output_type": "error",
     "traceback": [
      "\u001b[1;36m  File \u001b[1;32m\"C:\\Users\\abhis\\AppData\\Local\\Temp/ipykernel_19832/162972692.py\"\u001b[1;36m, line \u001b[1;32m2\u001b[0m\n\u001b[1;33m    tuple([0])=10\u001b[0m\n\u001b[1;37m    ^\u001b[0m\n\u001b[1;31mSyntaxError\u001b[0m\u001b[1;31m:\u001b[0m cannot assign to function call here. Maybe you meant '==' instead of '='?\n"
     ]
    }
   ],
   "source": [
    "tuple=(1,2, 4,5,6)  # tuple cannot be modified.\n",
    "tuple([0])=10"
   ]
  },
  {
   "cell_type": "code",
   "execution_count": null,
   "metadata": {},
   "outputs": [],
   "source": [
    "# 5. Describe the key features of sets and provide examples of their use."
   ]
  },
  {
   "cell_type": "code",
   "execution_count": 14,
   "metadata": {},
   "outputs": [
    {
     "name": "stdout",
     "output_type": "stream",
     "text": [
      "{'Sunflower', 'Jerbera', 'Jasmine', 'Rose'}\n",
      "{2, 3, 4, 5, 6, 7, 8, 9, 10}\n",
      "{'Rose', 'Jerbera', 'Sunflower', 'Tulip', 'Jasmine'}\n"
     ]
    },
    {
     "ename": "AttributeError",
     "evalue": "'set' object has no attribute 'index'",
     "output_type": "error",
     "traceback": [
      "\u001b[1;31m---------------------------------------------------------------------------\u001b[0m",
      "\u001b[1;31mAttributeError\u001b[0m                            Traceback (most recent call last)",
      "\u001b[1;32m~\\AppData\\Local\\Temp/ipykernel_19832/3509560671.py\u001b[0m in \u001b[0;36m<module>\u001b[1;34m\u001b[0m\n\u001b[0;32m     15\u001b[0m \u001b[1;33m\u001b[0m\u001b[0m\n\u001b[0;32m     16\u001b[0m \u001b[1;31m# Elements in a set cannot be accessed by indexing or slicing.\u001b[0m\u001b[1;33m\u001b[0m\u001b[1;33m\u001b[0m\u001b[0m\n\u001b[1;32m---> 17\u001b[1;33m \u001b[0mset_2\u001b[0m\u001b[1;33m.\u001b[0m\u001b[0mindex\u001b[0m\u001b[1;33m(\u001b[0m\u001b[1;36m1\u001b[0m\u001b[1;33m)\u001b[0m\u001b[1;33m\u001b[0m\u001b[1;33m\u001b[0m\u001b[0m\n\u001b[0m\u001b[0;32m     18\u001b[0m \u001b[1;33m\u001b[0m\u001b[0m\n\u001b[0;32m     19\u001b[0m \u001b[1;31m# It support various operations such as union, intersection, difference, and symmetric difference.\u001b[0m\u001b[1;33m\u001b[0m\u001b[1;33m\u001b[0m\u001b[0m\n",
      "\u001b[1;31mAttributeError\u001b[0m: 'set' object has no attribute 'index'"
     ]
    }
   ],
   "source": [
    "# Sets represent the collections of unique elements.\n",
    "# Features:\n",
    "\n",
    "# Sets automatically enforce uniqueness of elements. Duplicate elements are not allowed in a set.Example,\n",
    "set_1 = {'Rose', 'Jasmine','Sunflower', 'Jerbera','Rose'}\n",
    "print(set_1)\n",
    "\n",
    "# The elements in the set do not have a specific order and cannot be indexed. Example,\n",
    "set_2= {10,5,7,9,3,2,8,6,4}\n",
    "print(set_2)\n",
    "\n",
    "# Sets are mutable\n",
    "set_1.add('Tulip')\n",
    "print(set_1)\n",
    "\n",
    "# Elements in a set cannot be accessed by indexing or slicing.\n",
    "set_2.index(1)\n"
   ]
  },
  {
   "cell_type": "code",
   "execution_count": 17,
   "metadata": {},
   "outputs": [
    {
     "name": "stdout",
     "output_type": "stream",
     "text": [
      "{1, 2, 3, 4, 5, 6}\n",
      "{1, 2, 3, 4, 5, 6}\n"
     ]
    }
   ],
   "source": [
    "# It support various operations such as union, intersection, difference, and symmetric difference.\n",
    "set1 = {1, 2, 3, 4}\n",
    "set2 = {3, 4, 5, 6}\n",
    "\n",
    "# Using the | operator\n",
    "union_set = set1 | set2\n",
    "print(union_set) # Output: {1, 2, 3, 4, 5, 6}\n",
    "\n",
    "# Using the .union() method\n",
    "union_set = set1.union(set2)\n",
    "print(union_set)  # Output: {1, 2, 3, 4, 5, 6}"
   ]
  },
  {
   "cell_type": "code",
   "execution_count": null,
   "metadata": {},
   "outputs": [],
   "source": [
    "# 6. Discuss the use cases of tuples and sets in Python programming"
   ]
  },
  {
   "cell_type": "markdown",
   "metadata": {},
   "source": [
    "# Use Cases for Tuples\n",
    "1. To store a collection of items that should not change such as Coordinates in a 2D space, configuration settings, or records in a database.\n",
    "2. When a function needs to return more than one value, for example a pair of values such as coordinates or a result and a status.\n",
    "3. To use a collection of values as a key in a dictionary, since dictionary keys must be immutable.\n",
    "4. To unpack values from a sequence directly into variables for example unpacking values in a for-loop or during function calls.\n",
    "\n",
    "\n",
    "# Use Cases for Sets\n",
    "1. To store a collection of unique items.\n",
    "2. Checking if an element exists in a collection.\n",
    "3. To perform mathematical set operations like union, intersection, difference, or symmetric difference.\n",
    "4. To remove duplicate items from a list.\n"
   ]
  },
  {
   "cell_type": "code",
   "execution_count": null,
   "metadata": {},
   "outputs": [],
   "source": [
    "#  Describe how to add, modify and delete items on a dictionary with examples"
   ]
  },
  {
   "cell_type": "code",
   "execution_count": 28,
   "metadata": {},
   "outputs": [
    {
     "name": "stdout",
     "output_type": "stream",
     "text": [
      "{'Apple': 120}\n",
      "{'Apple': 120, 'Banana': 230, 'Cherry': 450}\n",
      "{'Apple': 60, 'Banana': 230, 'Cherry': 450}\n"
     ]
    }
   ],
   "source": [
    "# Adding Items to a Dictionary\n",
    "dict_s1 = {}\n",
    "dict_s1['Apple']=120\n",
    "print(dict_s1)\n",
    "dict_s1.update({'Banana':230,'Cherry':450})\n",
    "print(dict_s1)\n",
    "\n",
    "# Modifying Items in a Dictionary\n",
    "dict_s1['Apple']=60\n",
    "print(dict_s1)\n",
    "\n",
    "# Deleting Items from a Dictionary\n",
    "del dict_s1['Apple']\n"
   ]
  },
  {
   "cell_type": "code",
   "execution_count": null,
   "metadata": {},
   "outputs": [],
   "source": [
    "# 8. Discuss the importance of dictionary keys being immutable and provide examples"
   ]
  },
  {
   "cell_type": "code",
   "execution_count": 29,
   "metadata": {},
   "outputs": [
    {
     "name": "stdout",
     "output_type": "stream",
     "text": [
      "Alice\n"
     ]
    }
   ],
   "source": [
    "# Example\n",
    "my_dict = {'name': 'Alice', 'age': 30} #immutabble string\n",
    "print(my_dict['name']) \n"
   ]
  },
  {
   "cell_type": "markdown",
   "metadata": {},
   "source": [
    "Dictionary keys must be immutable in order to meet the hash requirement.\n",
    "\n",
    "Reason: To store and retrieve information quickly, dictionaries in Python make use of hash tables. The hash table depends on the key's hash value being able to be calculated.\n",
    "Immutability Impact: A key needs to be immutable in order for its hash value to stay consistent. A key's value changing could cause inconsistencies in the hash table, which could lead to unsuccessful or inaccurate lookups.\n",
    "Regularity in Lookups:\n",
    "\n",
    "Reason: The immutability of keys is necessary for the consistent retrieval of values associated with them.\n",
    "Immutability Impact: Unpredictable behavior when searching for or removing items from the dictionary could result from a key's potential to change.\n"
   ]
  }
 ],
 "metadata": {
  "kernelspec": {
   "display_name": "Python 3",
   "language": "python",
   "name": "python3"
  },
  "language_info": {
   "codemirror_mode": {
    "name": "ipython",
    "version": 3
   },
   "file_extension": ".py",
   "mimetype": "text/x-python",
   "name": "python",
   "nbconvert_exporter": "python",
   "pygments_lexer": "ipython3",
   "version": "3.10.0"
  }
 },
 "nbformat": 4,
 "nbformat_minor": 2
}
